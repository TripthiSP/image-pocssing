{
 "cells": [
  {
   "cell_type": "code",
   "execution_count": 2,
   "id": "627af315",
   "metadata": {},
   "outputs": [
    {
     "data": {
      "text/plain": [
       "'montage.png'"
      ]
     },
     "execution_count": 2,
     "metadata": {},
     "output_type": "execute_result"
    }
   ],
   "source": [
    "import cv2\n",
    "from PIL import Image\n",
    "from skimage import io\n",
    "\n",
    "\n",
    "IMAGE_WIDTH = 400\n",
    "IMAGE_HEIGHT = 400\n",
    "\n",
    "def create_collage(images):\n",
    "    images = [io.imread(img) for img in images]\n",
    "    images = [cv2.resize(image, (IMAGE_WIDTH, IMAGE_HEIGHT)) for image in images]\n",
    "    if len(images) > 2:\n",
    "        half = len(images) // 2\n",
    "        h1 = cv2.hconcat(images[:half])\n",
    "        h2 = cv2.hconcat(images[half:])\n",
    "        concat_images = cv2.vconcat([h1, h2])\n",
    "    else:\n",
    "        concat_images = cv2.hconcat(images)\n",
    "        image = Image.fromarray(concat_images)\n",
    "\n",
    "    # Image path\n",
    "    image_name = \"montage.png\"\n",
    "    image = image.convert(\"RGB\")\n",
    "    image.save(f\"{image_name}\")\n",
    "    return image_name\n",
    "images=[\"fruit.jpg\",\"cat.jpg\",\"cat2.jpg\",\"star.jpg\"]\n",
    "#image1 on top left, image2 on top right, image3 on bottom left,image4 on bottom right\n",
    "create_collage(images)\n",
    "\n"
   ]
  },
  {
   "cell_type": "code",
   "execution_count": null,
   "id": "7f48ecf0",
   "metadata": {},
   "outputs": [],
   "source": [
    "\n"
   ]
  },
  {
   "cell_type": "code",
   "execution_count": null,
   "id": "32f52b3f",
   "metadata": {},
   "outputs": [],
   "source": []
  },
  {
   "cell_type": "code",
   "execution_count": null,
   "id": "ed989101",
   "metadata": {},
   "outputs": [],
   "source": []
  }
 ],
 "metadata": {
  "kernelspec": {
   "display_name": "Python 3 (ipykernel)",
   "language": "python",
   "name": "python3"
  },
  "language_info": {
   "codemirror_mode": {
    "name": "ipython",
    "version": 3
   },
   "file_extension": ".py",
   "mimetype": "text/x-python",
   "name": "python",
   "nbconvert_exporter": "python",
   "pygments_lexer": "ipython3",
   "version": "3.9.12"
  }
 },
 "nbformat": 4,
 "nbformat_minor": 5
}
