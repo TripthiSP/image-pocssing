{
 "cells": [
  {
   "cell_type": "code",
   "execution_count": 13,
   "id": "75dca363",
   "metadata": {},
   "outputs": [],
   "source": [
    "import cv2\n",
    "import numpy as np\n",
    "img = cv2.imread('peppers.png')\n",
    "near_img = cv2.resize(img,None, fx = 5, fy = 5, interpolation = cv2.INTER_NEAREST)\n",
    "cv2.imshow(\" \",near_img)\n",
    "cv2.waitKey(0)\n",
    "cv2.destroyAllWindows()"
   ]
  },
  {
   "cell_type": "code",
   "execution_count": 20,
   "id": "6064705e",
   "metadata": {},
   "outputs": [],
   "source": [
    "import cv2\n",
    "import numpy as np\n",
    "img = cv2.imread('peppers.png')\n",
    "near_img = cv2.resize(img,None, fx = 5, fy = 5, interpolation = cv2.INTER_LINEAR)\n",
    "cv2.imshow(\" \",near_img)\n",
    "cv2.waitKey(0)\n",
    "cv2.destroyAllWindows()"
   ]
  },
  {
   "cell_type": "code",
   "execution_count": 21,
   "id": "75c12a2a",
   "metadata": {},
   "outputs": [],
   "source": [
    "import cv2\n",
    "import numpy as np\n",
    "img = cv2.imread('peppers.png')\n",
    "near_img = cv2.resize(img,None, fx = 5, fy = 5, interpolation = cv2.INTER_CUBIC)\n",
    "cv2.imshow(\" \",near_img)\n",
    "cv2.waitKey(0)\n",
    "cv2.destroyAllWindows()"
   ]
  },
  {
   "cell_type": "code",
   "execution_count": 28,
   "id": "8cd3f2e6",
   "metadata": {},
   "outputs": [],
   "source": [
    "\n",
    "import cv2\n",
    "import numpy as np\n",
    " \n",
    "     \n",
    "# Read the image\n",
    "img = cv2.imread('noisy.png',0)\n",
    " \n",
    "# Obtain number of rows and columns\n",
    "# of the image\n",
    "m, n = img.shape\n",
    " \n",
    "# Develop Averaging filter(3, 3) mask\n",
    "mask = np.ones([3, 3], dtype = int)\n",
    "mask = mask / 9\n",
    " \n",
    "# Convolve the 3X3 mask over the image\n",
    "img_new = np.zeros([m, n])\n",
    " \n",
    "for i in range(1, m-1):\n",
    "    for j in range(1, n-1):\n",
    "        temp = img[i-1, j-1]*mask[0, 0]+img[i-1, j]*mask[0, 1]+img[i-1, j + 1]*mask[0, 2]+img[i, j-1]*mask[1, 0]+ img[i, j]*mask[1, 1]+img[i, j + 1]*mask[1, 2]+img[i + 1, j-1]*mask[2, 0]+img[i + 1, j]*mask[2, 1]+img[i + 1, j + 1]*mask[2, 2]\n",
    "       \n",
    "        img_new[i, j]= temp\n",
    "         \n",
    "img_new = img_new.astype(np.uint8)\n",
    "cv2.imshow('blurred.png', img_new)\n",
    "cv2.waitKey(0)\n",
    "cv2.destroyAllWindows()"
   ]
  },
  {
   "cell_type": "code",
   "execution_count": 29,
   "id": "8ceedae6",
   "metadata": {},
   "outputs": [],
   "source": [
    "import cv2\n",
    "import numpy as np\n",
    " \n",
    " # Read the image\n",
    "img_noisy1 = cv2.imread('noisy.png', 0)\n",
    " \n",
    "# Obtain the number of rows and columns\n",
    "# of the image\n",
    "m, n = img_noisy1.shape\n",
    " \n",
    "# Traverse the image. For every 3X3 area,\n",
    "# find the median of the pixels and\n",
    "# replace the center pixel by the median\n",
    "img_new1 = np.zeros([m, n])\n",
    " \n",
    "for i in range(1, m-1):\n",
    "    for j in range(1, n-1):\n",
    "        temp = [img_noisy1[i-1, j-1],\n",
    "               img_noisy1[i-1, j],\n",
    "               img_noisy1[i-1, j + 1],\n",
    "               img_noisy1[i, j-1],\n",
    "               img_noisy1[i, j],\n",
    "               img_noisy1[i, j + 1],\n",
    "               img_noisy1[i + 1, j-1],\n",
    "               img_noisy1[i + 1, j],\n",
    "               img_noisy1[i + 1, j + 1]]\n",
    "         \n",
    "        temp = sorted(temp)\n",
    "        img_new1[i, j]= temp[4]\n",
    "img_new1 = img_new1.astype(np.uint8)\n",
    "cv2.imshow('new_median_filtered.png', img_new1)\n",
    "cv2.waitKey(0)\n",
    "cv2.destroyAllWindows()\n"
   ]
  },
  {
   "cell_type": "code",
   "execution_count": 31,
   "id": "d3f4ee79",
   "metadata": {},
   "outputs": [
    {
     "ename": "error",
     "evalue": "OpenCV(4.6.0) :-1: error: (-5:Bad argument) in function 'calcHist'\n> Overload resolution failed:\n>  - Can't parse 'images'. Sequence item with index 0 has a wrong type\n>  - Can't parse 'images'. Sequence item with index 0 has a wrong type\n",
     "output_type": "error",
     "traceback": [
      "\u001b[1;31m---------------------------------------------------------------------------\u001b[0m",
      "\u001b[1;31merror\u001b[0m                                     Traceback (most recent call last)",
      "Input \u001b[1;32mIn [31]\u001b[0m, in \u001b[0;36m<cell line: 11>\u001b[1;34m()\u001b[0m\n\u001b[0;32m      8\u001b[0m im \u001b[38;5;241m=\u001b[39m im\u001b[38;5;241m.\u001b[39mresize((im\u001b[38;5;241m.\u001b[39mwidth\u001b[38;5;241m/\u001b[39m\u001b[38;5;241m/\u001b[39m\u001b[38;5;241m5\u001b[39m, im\u001b[38;5;241m.\u001b[39mheight\u001b[38;5;241m/\u001b[39m\u001b[38;5;241m/\u001b[39m\u001b[38;5;241m5\u001b[39m))\n\u001b[0;32m      9\u001b[0m plt\u001b[38;5;241m.\u001b[39mfigure(figsize\u001b[38;5;241m=\u001b[39m(\u001b[38;5;241m15\u001b[39m,\u001b[38;5;241m10\u001b[39m))\n\u001b[1;32m---> 11\u001b[0m histr \u001b[38;5;241m=\u001b[39m \u001b[43mcv2\u001b[49m\u001b[38;5;241;43m.\u001b[39;49m\u001b[43mcalcHist\u001b[49m\u001b[43m(\u001b[49m\u001b[43m[\u001b[49m\u001b[43mim\u001b[49m\u001b[43m]\u001b[49m\u001b[43m,\u001b[49m\u001b[43m[\u001b[49m\u001b[38;5;241;43m0\u001b[39;49m\u001b[43m]\u001b[49m\u001b[43m,\u001b[49m\u001b[38;5;28;43;01mNone\u001b[39;49;00m\u001b[43m,\u001b[49m\u001b[43m[\u001b[49m\u001b[38;5;241;43m256\u001b[39;49m\u001b[43m]\u001b[49m\u001b[43m,\u001b[49m\u001b[43m[\u001b[49m\u001b[38;5;241;43m0\u001b[39;49m\u001b[43m,\u001b[49m\u001b[38;5;241;43m256\u001b[39;49m\u001b[43m]\u001b[49m\u001b[43m)\u001b[49m\n\u001b[0;32m     13\u001b[0m \u001b[38;5;66;03m# show the plotting graph of an image\u001b[39;00m\n\u001b[0;32m     14\u001b[0m plt\u001b[38;5;241m.\u001b[39mplot(histr)\n",
      "\u001b[1;31merror\u001b[0m: OpenCV(4.6.0) :-1: error: (-5:Bad argument) in function 'calcHist'\n> Overload resolution failed:\n>  - Can't parse 'images'. Sequence item with index 0 has a wrong type\n>  - Can't parse 'images'. Sequence item with index 0 has a wrong type\n"
     ]
    },
    {
     "data": {
      "text/plain": [
       "<Figure size 1080x720 with 0 Axes>"
      ]
     },
     "metadata": {},
     "output_type": "display_data"
    }
   ],
   "source": [
    "import cv2\n",
    "import matplotlib.pyplot as plt\n",
    "from PIL import Image\n",
    "im = Image.open(\"flower.png\")\n",
    "plt.imshow(im)\n",
    "plt.show()\n",
    "\n",
    "#down sampling\n",
    "img = Image.open(\"flower.png\")\n",
    "img = im.resize((im.width//5, im.height//5))\n",
    "plt.figure(figsize=(15,10))\n",
    "# show the plotting graph of an image\n",
    "\n",
    "histr = cv2.calcHist([im],[0],None,[256],[0,256])\n",
    "# show the plotting graph of an image\n",
    "plt.plot(histr)\n",
    "plt.show()\n"
   ]
  },
  {
   "cell_type": "code",
   "execution_count": null,
   "id": "bcd060fb",
   "metadata": {},
   "outputs": [],
   "source": [
    "# importing required libraries of opencv\n",
    "import cv2\n",
    "\n",
    "# importing library for plotting\n",
    "from matplotlib import pyplot as plt\n",
    "\n",
    "# reads an input image\n",
    "img = cv2.imread('cat2.jpg',0)\n",
    "\n",
    "# find frequency of pixels in range 0-255\n",
    "histr = cv2.calcHist([img],[0],None,[256],[0,256])\n",
    "\n",
    "# show the plotting graph of an image\n",
    "plt.plot(histr)\n",
    "plt.show()\n"
   ]
  },
  {
   "cell_type": "code",
   "execution_count": null,
   "id": "39bda7d5",
   "metadata": {},
   "outputs": [],
   "source": [
    "import cv2\n",
    "import matplotlib.pyplot as plt\n",
    "from PIL import Image\n",
    "im = Image.open(\"flower.png\")\n",
    "plt.imshow(im)\n",
    "plt.show()\n",
    "\n",
    "#down sampling\n",
    "im = Image.open(\"flower.png\")\n",
    "im = im.resize((im.width//5, im.height//5))\n",
    "plt.figure(figsize=(15,10))\n",
    "plt.imshow(im)\n",
    "plt.show()"
   ]
  }
 ],
 "metadata": {
  "kernelspec": {
   "display_name": "Python 3 (ipykernel)",
   "language": "python",
   "name": "python3"
  },
  "language_info": {
   "codemirror_mode": {
    "name": "ipython",
    "version": 3
   },
   "file_extension": ".py",
   "mimetype": "text/x-python",
   "name": "python",
   "nbconvert_exporter": "python",
   "pygments_lexer": "ipython3",
   "version": "3.9.12"
  }
 },
 "nbformat": 4,
 "nbformat_minor": 5
}
